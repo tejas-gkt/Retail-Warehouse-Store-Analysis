{
 "cells": [
  {
   "cell_type": "code",
   "execution_count": null,
   "id": "66bea44e",
   "metadata": {},
   "outputs": [],
   "source": []
  },
  {
   "cell_type": "markdown",
   "id": "8395dfbc",
   "metadata": {},
   "source": [
    "Problem Statement The retail and warehouse data provided contains sales and transfer information across different suppliers, items, and time periods (months and years). The goal of the problem might be:\n",
    "\n",
    "Sales Forecasting: Predict future sales (retail or warehouse) based on historical data. This is a Time Series Forecasting problem.\n",
    "\n",
    "Demand Prediction: Estimate the demand for items based on the available sales and transfer data to optimize inventory management.\n",
    "\n",
    "Supplier-Item Analysis: Identify patterns and trends in supplier performance, specific item sales, and warehouse transfers to improve logistics or retail strategies.\n",
    "\n",
    "Sales Transfer Prediction: Predict how items are transferred between retail and warehouse locations to balance inventory levels. Depending on the specific goal, different models and techniques like time series forecasting, regression, or even classification (for items at risk of running out of stock) might be used.\n",
    "\n",
    "Variable:\n",
    "\n",
    "YEAR: Type: Categorical (or could be continuous depending on use) Description: The year in which the data was recorded. ML Perspective: It can be used for temporal analysis or as a time feature in forecasting.\n",
    "\n",
    "MONTH: Type: Categorical Description: The month in which the data was recorded (e.g., January, February). ML Perspective: Another temporal feature, typically used in combination with the year for seasonality detection in sales.\n",
    "\n",
    "SUPPLIER: Type: Categorical Description: The supplier providing the product. ML Perspective: Can be used to determine supplier performance or to cluster items based on supplier contribution.\n",
    "\n",
    "ITEM CODE: Type: Categorical Description: Unique identifier for each item/product. ML Perspective: Acts as a key or identifier for individual items, useful in item-specific modeling or clustering.\n",
    "\n",
    "ITEM DESCRIPTION: Type: Categorical Description: The descriptive name of the item/product. ML Perspective: This feature might be irrelevant for modeling as it could be redundant with the ITEM CODE, unless NLP techniques are applied for item classification or extraction of useful information.\n",
    "\n",
    "ITEM TYPE: Type: Categorical Description: Type or category of the item (e.g., electronics, clothing, food). ML Perspective: Important for categorical encoding and for determining different sales patterns across item types.\n",
    "\n",
    "RETAIL SALES (RETAIL SA): Type: Continuous Description: The total retail sales for the specific item. ML Perspective: This is a key feature for predictive models, especially in sales forecasting.\n",
    "\n",
    "RETAIL TRANSFERS (RETAIL TR): Type: Continuous Description: The quantity of items transferred between retail locations. ML Perspective: Useful for predicting transfer needs or optimizing inventory balancing between stores.\n",
    "\n",
    "WAREHOUSE SALES: Type: Continuous Description: The total sales from warehouse inventory. ML Perspective: Useful in understanding how much of the stock is sold directly from the warehouse, which could be compared with retail sales for demand planning.\n",
    "\n",
    "Potential ML Tasks Predicting retail or warehouse sales: Based on item, supplier, and temporal data. Classifying items with high transfer rates: To manage inventory effectively. Time Series Analysis: To identify trends, seasonality, and forecast future sales.\n",
    "\n",
    "These features allow us to solve multiple ML problems such as forecasting, classification, or clustering depending on business needs."
   ]
  },
  {
   "cell_type": "code",
   "execution_count": 1,
   "id": "862624ac",
   "metadata": {},
   "outputs": [],
   "source": [
    "import os\n",
    "import numpy as np\n",
    "import pandas as pd\n",
    "import matplotlib.pyplot as plt\n",
    "import seaborn as sns\n",
    "%matplotlib inline\n",
    "sns.set()\n",
    "import warnings\n",
    "warnings.filterwarnings('ignore')"
   ]
  },
  {
   "cell_type": "code",
   "execution_count": 2,
   "id": "d6d38b30",
   "metadata": {},
   "outputs": [
    {
     "data": {
      "text/plain": [
       "(30000, 9)"
      ]
     },
     "execution_count": 2,
     "metadata": {},
     "output_type": "execute_result"
    }
   ],
   "source": [
    "df = pd.read_csv('retail_warehouse_data.csv')\n",
    "df.shape"
   ]
  },
  {
   "cell_type": "code",
   "execution_count": 5,
   "id": "9b40adef",
   "metadata": {},
   "outputs": [
    {
     "data": {
      "text/html": [
       "<div>\n",
       "<style scoped>\n",
       "    .dataframe tbody tr th:only-of-type {\n",
       "        vertical-align: middle;\n",
       "    }\n",
       "\n",
       "    .dataframe tbody tr th {\n",
       "        vertical-align: top;\n",
       "    }\n",
       "\n",
       "    .dataframe thead th {\n",
       "        text-align: right;\n",
       "    }\n",
       "</style>\n",
       "<table border=\"1\" class=\"dataframe\">\n",
       "  <thead>\n",
       "    <tr style=\"text-align: right;\">\n",
       "      <th></th>\n",
       "      <th>YEAR</th>\n",
       "      <th>MONTH</th>\n",
       "      <th>SUPPLIER</th>\n",
       "      <th>ITEM CODE</th>\n",
       "      <th>ITEM DESCRIPTION</th>\n",
       "      <th>ITEM TYPE</th>\n",
       "      <th>RETAIL SALES</th>\n",
       "      <th>RETAIL TRANSFERS</th>\n",
       "      <th>WAREHOUSE SALES</th>\n",
       "    </tr>\n",
       "  </thead>\n",
       "  <tbody>\n",
       "    <tr>\n",
       "      <th>0</th>\n",
       "      <td>2020</td>\n",
       "      <td>1</td>\n",
       "      <td>REPUBLIC NATIONAL DISTRIBUTING CO</td>\n",
       "      <td>100009</td>\n",
       "      <td>BOOTLEG RED - 750ML</td>\n",
       "      <td>WINE</td>\n",
       "      <td>0.00</td>\n",
       "      <td>0.0</td>\n",
       "      <td>2.0</td>\n",
       "    </tr>\n",
       "    <tr>\n",
       "      <th>1</th>\n",
       "      <td>2020</td>\n",
       "      <td>1</td>\n",
       "      <td>PWSWN INC</td>\n",
       "      <td>100024</td>\n",
       "      <td>MOMENT DE PLAISIR - 750ML</td>\n",
       "      <td>WINE</td>\n",
       "      <td>0.00</td>\n",
       "      <td>1.0</td>\n",
       "      <td>4.0</td>\n",
       "    </tr>\n",
       "    <tr>\n",
       "      <th>2</th>\n",
       "      <td>2020</td>\n",
       "      <td>1</td>\n",
       "      <td>RELIABLE CHURCHILL LLLP</td>\n",
       "      <td>1001</td>\n",
       "      <td>S SMITH ORGANIC PEAR CIDER - 18.7OZ</td>\n",
       "      <td>BEER</td>\n",
       "      <td>0.00</td>\n",
       "      <td>0.0</td>\n",
       "      <td>1.0</td>\n",
       "    </tr>\n",
       "    <tr>\n",
       "      <th>3</th>\n",
       "      <td>2020</td>\n",
       "      <td>1</td>\n",
       "      <td>LANTERNA DISTRIBUTORS INC</td>\n",
       "      <td>100145</td>\n",
       "      <td>SCHLINK HAUS KABINETT - 750ML</td>\n",
       "      <td>WINE</td>\n",
       "      <td>0.00</td>\n",
       "      <td>0.0</td>\n",
       "      <td>1.0</td>\n",
       "    </tr>\n",
       "    <tr>\n",
       "      <th>4</th>\n",
       "      <td>2020</td>\n",
       "      <td>1</td>\n",
       "      <td>DIONYSOS IMPORTS INC</td>\n",
       "      <td>100293</td>\n",
       "      <td>SANTORINI GAVALA WHITE - 750ML</td>\n",
       "      <td>WINE</td>\n",
       "      <td>0.82</td>\n",
       "      <td>0.0</td>\n",
       "      <td>0.0</td>\n",
       "    </tr>\n",
       "  </tbody>\n",
       "</table>\n",
       "</div>"
      ],
      "text/plain": [
       "   YEAR  MONTH                           SUPPLIER ITEM CODE  \\\n",
       "0  2020      1  REPUBLIC NATIONAL DISTRIBUTING CO    100009   \n",
       "1  2020      1                          PWSWN INC    100024   \n",
       "2  2020      1            RELIABLE CHURCHILL LLLP      1001   \n",
       "3  2020      1          LANTERNA DISTRIBUTORS INC    100145   \n",
       "4  2020      1               DIONYSOS IMPORTS INC    100293   \n",
       "\n",
       "                      ITEM DESCRIPTION ITEM TYPE  RETAIL SALES  \\\n",
       "0                  BOOTLEG RED - 750ML      WINE          0.00   \n",
       "1            MOMENT DE PLAISIR - 750ML      WINE          0.00   \n",
       "2  S SMITH ORGANIC PEAR CIDER - 18.7OZ      BEER          0.00   \n",
       "3        SCHLINK HAUS KABINETT - 750ML      WINE          0.00   \n",
       "4       SANTORINI GAVALA WHITE - 750ML      WINE          0.82   \n",
       "\n",
       "   RETAIL TRANSFERS  WAREHOUSE SALES  \n",
       "0               0.0              2.0  \n",
       "1               1.0              4.0  \n",
       "2               0.0              1.0  \n",
       "3               0.0              1.0  \n",
       "4               0.0              0.0  "
      ]
     },
     "execution_count": 5,
     "metadata": {},
     "output_type": "execute_result"
    }
   ],
   "source": [
    "df.head()"
   ]
  },
  {
   "cell_type": "code",
   "execution_count": 3,
   "id": "61ee39cd",
   "metadata": {},
   "outputs": [
    {
     "data": {
      "text/plain": [
       "Index(['YEAR', 'MONTH', 'SUPPLIER', 'ITEM CODE', 'ITEM DESCRIPTION',\n",
       "       'ITEM TYPE', 'RETAIL SALES', 'RETAIL TRANSFERS', 'WAREHOUSE SALES'],\n",
       "      dtype='object')"
      ]
     },
     "execution_count": 3,
     "metadata": {},
     "output_type": "execute_result"
    }
   ],
   "source": [
    "df.columns"
   ]
  },
  {
   "cell_type": "code",
   "execution_count": 6,
   "id": "f582b436",
   "metadata": {},
   "outputs": [
    {
     "data": {
      "text/plain": [
       "0"
      ]
     },
     "execution_count": 6,
     "metadata": {},
     "output_type": "execute_result"
    }
   ],
   "source": [
    "df.duplicated().sum()"
   ]
  },
  {
   "cell_type": "code",
   "execution_count": 8,
   "id": "75b9efdc",
   "metadata": {},
   "outputs": [
    {
     "name": "stdout",
     "output_type": "stream",
     "text": [
      "<class 'pandas.core.frame.DataFrame'>\n",
      "RangeIndex: 30000 entries, 0 to 29999\n",
      "Data columns (total 9 columns):\n",
      " #   Column            Non-Null Count  Dtype  \n",
      "---  ------            --------------  -----  \n",
      " 0   YEAR              30000 non-null  int64  \n",
      " 1   MONTH             30000 non-null  int64  \n",
      " 2   SUPPLIER          29967 non-null  object \n",
      " 3   ITEM CODE         30000 non-null  object \n",
      " 4   ITEM DESCRIPTION  30000 non-null  object \n",
      " 5   ITEM TYPE         30000 non-null  object \n",
      " 6   RETAIL SALES      29999 non-null  float64\n",
      " 7   RETAIL TRANSFERS  30000 non-null  float64\n",
      " 8   WAREHOUSE SALES   30000 non-null  float64\n",
      "dtypes: float64(3), int64(2), object(4)\n",
      "memory usage: 2.1+ MB\n"
     ]
    }
   ],
   "source": [
    "df.info()"
   ]
  },
  {
   "cell_type": "code",
   "execution_count": 9,
   "id": "fde69323",
   "metadata": {},
   "outputs": [
    {
     "data": {
      "text/html": [
       "<div>\n",
       "<style scoped>\n",
       "    .dataframe tbody tr th:only-of-type {\n",
       "        vertical-align: middle;\n",
       "    }\n",
       "\n",
       "    .dataframe tbody tr th {\n",
       "        vertical-align: top;\n",
       "    }\n",
       "\n",
       "    .dataframe thead th {\n",
       "        text-align: right;\n",
       "    }\n",
       "</style>\n",
       "<table border=\"1\" class=\"dataframe\">\n",
       "  <thead>\n",
       "    <tr style=\"text-align: right;\">\n",
       "      <th></th>\n",
       "      <th>YEAR</th>\n",
       "      <th>MONTH</th>\n",
       "      <th>RETAIL SALES</th>\n",
       "      <th>RETAIL TRANSFERS</th>\n",
       "      <th>WAREHOUSE SALES</th>\n",
       "    </tr>\n",
       "  </thead>\n",
       "  <tbody>\n",
       "    <tr>\n",
       "      <th>count</th>\n",
       "      <td>30000.0</td>\n",
       "      <td>30000.000000</td>\n",
       "      <td>29999.000000</td>\n",
       "      <td>30000.000000</td>\n",
       "      <td>30000.000000</td>\n",
       "    </tr>\n",
       "    <tr>\n",
       "      <th>mean</th>\n",
       "      <td>2020.0</td>\n",
       "      <td>3.911467</td>\n",
       "      <td>6.939796</td>\n",
       "      <td>6.594058</td>\n",
       "      <td>27.431031</td>\n",
       "    </tr>\n",
       "    <tr>\n",
       "      <th>std</th>\n",
       "      <td>0.0</td>\n",
       "      <td>2.836788</td>\n",
       "      <td>33.081054</td>\n",
       "      <td>27.879428</td>\n",
       "      <td>272.166085</td>\n",
       "    </tr>\n",
       "    <tr>\n",
       "      <th>min</th>\n",
       "      <td>2020.0</td>\n",
       "      <td>1.000000</td>\n",
       "      <td>-0.420000</td>\n",
       "      <td>-6.000000</td>\n",
       "      <td>-3999.000000</td>\n",
       "    </tr>\n",
       "    <tr>\n",
       "      <th>25%</th>\n",
       "      <td>2020.0</td>\n",
       "      <td>1.000000</td>\n",
       "      <td>0.000000</td>\n",
       "      <td>0.000000</td>\n",
       "      <td>0.000000</td>\n",
       "    </tr>\n",
       "    <tr>\n",
       "      <th>50%</th>\n",
       "      <td>2020.0</td>\n",
       "      <td>3.000000</td>\n",
       "      <td>0.160000</td>\n",
       "      <td>0.000000</td>\n",
       "      <td>1.000000</td>\n",
       "    </tr>\n",
       "    <tr>\n",
       "      <th>75%</th>\n",
       "      <td>2020.0</td>\n",
       "      <td>7.000000</td>\n",
       "      <td>2.920000</td>\n",
       "      <td>3.000000</td>\n",
       "      <td>6.000000</td>\n",
       "    </tr>\n",
       "    <tr>\n",
       "      <th>max</th>\n",
       "      <td>2020.0</td>\n",
       "      <td>9.000000</td>\n",
       "      <td>2739.000000</td>\n",
       "      <td>1507.000000</td>\n",
       "      <td>18317.000000</td>\n",
       "    </tr>\n",
       "  </tbody>\n",
       "</table>\n",
       "</div>"
      ],
      "text/plain": [
       "          YEAR         MONTH  RETAIL SALES  RETAIL TRANSFERS  WAREHOUSE SALES\n",
       "count  30000.0  30000.000000  29999.000000      30000.000000     30000.000000\n",
       "mean    2020.0      3.911467      6.939796          6.594058        27.431031\n",
       "std        0.0      2.836788     33.081054         27.879428       272.166085\n",
       "min     2020.0      1.000000     -0.420000         -6.000000     -3999.000000\n",
       "25%     2020.0      1.000000      0.000000          0.000000         0.000000\n",
       "50%     2020.0      3.000000      0.160000          0.000000         1.000000\n",
       "75%     2020.0      7.000000      2.920000          3.000000         6.000000\n",
       "max     2020.0      9.000000   2739.000000       1507.000000     18317.000000"
      ]
     },
     "execution_count": 9,
     "metadata": {},
     "output_type": "execute_result"
    }
   ],
   "source": [
    "df.describe()"
   ]
  },
  {
   "cell_type": "code",
   "execution_count": 10,
   "id": "a777f151",
   "metadata": {},
   "outputs": [
    {
     "data": {
      "text/plain": [
       "YEAR                    1\n",
       "MONTH                   4\n",
       "SUPPLIER              290\n",
       "ITEM CODE           15668\n",
       "ITEM DESCRIPTION    15732\n",
       "ITEM TYPE               8\n",
       "RETAIL SALES         3657\n",
       "RETAIL TRANSFERS      542\n",
       "WAREHOUSE SALES      1032\n",
       "dtype: int64"
      ]
     },
     "execution_count": 10,
     "metadata": {},
     "output_type": "execute_result"
    }
   ],
   "source": [
    "df.nunique()"
   ]
  },
  {
   "cell_type": "code",
   "execution_count": 13,
   "id": "f6842fff",
   "metadata": {},
   "outputs": [
    {
     "data": {
      "text/plain": [
       "YEAR                 0\n",
       "MONTH                0\n",
       "SUPPLIER            33\n",
       "ITEM CODE            0\n",
       "ITEM DESCRIPTION     0\n",
       "ITEM TYPE            0\n",
       "RETAIL SALES         0\n",
       "RETAIL TRANSFERS     0\n",
       "WAREHOUSE SALES      0\n",
       "dtype: int64"
      ]
     },
     "execution_count": 13,
     "metadata": {},
     "output_type": "execute_result"
    }
   ],
   "source": [
    "df.isnull().sum()"
   ]
  },
  {
   "cell_type": "code",
   "execution_count": 15,
   "id": "6c858776",
   "metadata": {},
   "outputs": [
    {
     "data": {
      "text/plain": [
       "YEAR                0.00\n",
       "MONTH               0.00\n",
       "SUPPLIER            0.11\n",
       "ITEM CODE           0.00\n",
       "ITEM DESCRIPTION    0.00\n",
       "ITEM TYPE           0.00\n",
       "RETAIL SALES        0.00\n",
       "RETAIL TRANSFERS    0.00\n",
       "WAREHOUSE SALES     0.00\n",
       "dtype: float64"
      ]
     },
     "execution_count": 15,
     "metadata": {},
     "output_type": "execute_result"
    }
   ],
   "source": [
    "(df.isnull().sum()/len(df))*100"
   ]
  },
  {
   "cell_type": "code",
   "execution_count": 11,
   "id": "97ecd7a5",
   "metadata": {},
   "outputs": [],
   "source": [
    "df['RETAIL SALES'].fillna(df['RETAIL SALES'].median(),inplace=True)"
   ]
  },
  {
   "cell_type": "code",
   "execution_count": 12,
   "id": "5815df36",
   "metadata": {},
   "outputs": [
    {
     "data": {
      "text/plain": [
       "YEAR                 0\n",
       "MONTH                0\n",
       "SUPPLIER            33\n",
       "ITEM CODE            0\n",
       "ITEM DESCRIPTION     0\n",
       "ITEM TYPE            0\n",
       "RETAIL SALES         0\n",
       "RETAIL TRANSFERS     0\n",
       "WAREHOUSE SALES      0\n",
       "dtype: int64"
      ]
     },
     "execution_count": 12,
     "metadata": {},
     "output_type": "execute_result"
    }
   ],
   "source": [
    "df.isnull().sum()"
   ]
  },
  {
   "cell_type": "code",
   "execution_count": 16,
   "id": "503cc587",
   "metadata": {},
   "outputs": [],
   "source": [
    "df['SUPPLIER'].fillna('UNKNOWN',inplace=True)"
   ]
  },
  {
   "cell_type": "code",
   "execution_count": null,
   "id": "4a7c15d7",
   "metadata": {},
   "outputs": [],
   "source": []
  }
 ],
 "metadata": {
  "kernelspec": {
   "display_name": "Python 3 (ipykernel)",
   "language": "python",
   "name": "python3"
  },
  "language_info": {
   "codemirror_mode": {
    "name": "ipython",
    "version": 3
   },
   "file_extension": ".py",
   "mimetype": "text/x-python",
   "name": "python",
   "nbconvert_exporter": "python",
   "pygments_lexer": "ipython3",
   "version": "3.11.5"
  }
 },
 "nbformat": 4,
 "nbformat_minor": 5
}
